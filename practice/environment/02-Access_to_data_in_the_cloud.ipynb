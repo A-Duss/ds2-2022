{
 "cells": [
  {
   "cell_type": "markdown",
   "metadata": {},
   "source": [
    "*If you run this notebook at colab.research.google.com, you need to install packages with the following command*:"
   ]
  },
  {
   "cell_type": "code",
   "execution_count": null,
   "metadata": {},
   "outputs": [],
   "source": [
    "# !pip install --upgrade gcsfs intake intake-xarray zarr"
   ]
  },
  {
   "cell_type": "markdown",
   "metadata": {},
   "source": [
    "# Access to data in the cloud (GCS)"
   ]
  },
  {
   "cell_type": "code",
   "execution_count": 2,
   "metadata": {},
   "outputs": [],
   "source": [
    "import sys\n",
    "import gcsfs\n",
    "import xarray as xr\n",
    "import intake\n",
    "import pandas as pd"
   ]
  },
  {
   "cell_type": "markdown",
   "metadata": {},
   "source": [
    "## Read data from Google Cloud Storage (gcsfs)"
   ]
  },
  {
   "cell_type": "markdown",
   "metadata": {},
   "source": [
    "### Access and listing"
   ]
  },
  {
   "cell_type": "code",
   "execution_count": 2,
   "metadata": {},
   "outputs": [
    {
     "data": {
      "text/plain": [
       "['opendata_bdo2020/EN.4.2.1.f.analysis.g10.zarr',\n",
       " 'opendata_bdo2020/GLOBAL_ARGO_SDL2000',\n",
       " 'opendata_bdo2020/GLOB_HOMOGENEOUS_variables.zarr',\n",
       " 'opendata_bdo2020/Global_Argo_VerticalMean_Temperature.zarr',\n",
       " 'opendata_bdo2020/dt_global_allsat_phy_l4_mm']"
      ]
     },
     "execution_count": 2,
     "metadata": {},
     "output_type": "execute_result"
    }
   ],
   "source": [
    "# Define cloud file system access point:\n",
    "fs = gcsfs.GCSFileSystem(project='alert-ground-261008', token='anon', access='read_only')\n",
    "\n",
    "# And list content of a bucket:\n",
    "fs.ls('opendata_bdo2020')"
   ]
  },
  {
   "cell_type": "markdown",
   "metadata": {},
   "source": [
    "But data access with ``gcsfs`` is critically dependant on the GCS set-up. For instance the following project does not allow to list the bucket content:"
   ]
  },
  {
   "cell_type": "code",
   "execution_count": null,
   "metadata": {},
   "outputs": [],
   "source": [
    "fs2 = gcsfs.GCSFileSystem(project='alert-ground-261008', token='anon', access='read_only')\n",
    "try:\n",
    "    fs2.ls('data_bdo2020')\n",
    "except:\n",
    "    print(sys.exc_info()[0])"
   ]
  },
  {
   "cell_type": "markdown",
   "metadata": {},
   "source": [
    "On the other hand, some dataset may not be free and use a requester pay model. \n",
    "In this case, you would have to properly manage authentication:"
   ]
  },
  {
   "cell_type": "code",
   "execution_count": null,
   "metadata": {},
   "outputs": [],
   "source": [
    "fs3 = gcsfs.GCSFileSystem(project='poised-honor-358', token='anon')\n",
    "try:\n",
    "    fs3.ls('sonific01')\n",
    "except ValueError as e:\n",
    "    print(str(e))"
   ]
  },
  {
   "cell_type": "markdown",
   "metadata": {},
   "source": [
    "### Load data"
   ]
  },
  {
   "cell_type": "code",
   "execution_count": null,
   "metadata": {},
   "outputs": [],
   "source": [
    "gcsmap = fs.get_mapper(\"opendata_bdo2020/EN.4.2.1.f.analysis.g10.zarr\")\n",
    "ds = xr.open_zarr(gcsmap)\n",
    "\n",
    "# ds = xr.open_dataset(\"gcs://opendata_bdo2020/EN.4.2.1.f.analysis.g10.zarr\",\n",
    "#                      backend_kwargs={\"storage_options\": {\"project\": \"alert-ground-261008\", \"token\": 'anon', 'access':'read_only'}},\n",
    "#                     engine=\"zarr\")\n",
    "\n",
    "print(\"Size of the dataset:\", ds.nbytes/1e9,\"Gb\")\n",
    "print(ds)"
   ]
  },
  {
   "cell_type": "code",
   "execution_count": null,
   "metadata": {},
   "outputs": [],
   "source": [
    "# Load another dataset:\n",
    "gcsmap = fs.get_mapper('opendata_bdo2020/GLOBAL_ARGO_SDL2000')\n",
    "ds = xr.open_zarr(gcsmap, consolidated=False)\n",
    "print(\"Size of the dataset:\", ds.nbytes/1e9,\"Gb\")\n",
    "print(ds)"
   ]
  },
  {
   "cell_type": "markdown",
   "metadata": {},
   "source": [
    "## Use intake catalog of data\n",
    "\n",
    "The catalog also uses the gcsfs entry point, but with intake it's transparent to the user:"
   ]
  },
  {
   "cell_type": "markdown",
   "metadata": {},
   "source": [
    "### Access and listing of the catalog"
   ]
  },
  {
   "cell_type": "code",
   "execution_count": 3,
   "metadata": {},
   "outputs": [],
   "source": [
    "from intake import open_catalog"
   ]
  },
  {
   "cell_type": "code",
   "execution_count": 4,
   "metadata": {},
   "outputs": [
    {
     "data": {
      "text/plain": [
       "['argo_global_sdl',\n",
       " 'argo_global_sdl_homogeneous',\n",
       " 'argo_global_vertical_mean',\n",
       " 'en4',\n",
       " 'sea_surface_height']"
      ]
     },
     "execution_count": 4,
     "metadata": {},
     "output_type": "execute_result"
    }
   ],
   "source": [
    "catalog_url = 'https://raw.githubusercontent.com/obidam/ds2-2022/main/ds2_data_catalog.yml'\n",
    "cat = open_catalog(catalog_url)\n",
    "list(cat)"
   ]
  },
  {
   "cell_type": "markdown",
   "metadata": {},
   "source": [
    "### Load data"
   ]
  },
  {
   "cell_type": "code",
   "execution_count": null,
   "metadata": {},
   "outputs": [],
   "source": [
    "ds = cat['en4'].read_chunked()\n",
    "print(\"Size of the dataset:\", ds.nbytes/1e9,\"Gb\")\n",
    "ds"
   ]
  },
  {
   "cell_type": "code",
   "execution_count": null,
   "metadata": {
    "tags": []
   },
   "outputs": [],
   "source": [
    "ds  = cat[\"sea_surface_height\"].to_dask()\n",
    "print(\"Size of the dataset:\", ds.nbytes/1e9,\"Gb\")\n",
    "ds"
   ]
  },
  {
   "cell_type": "markdown",
   "metadata": {},
   "source": [
    "# Pangeo data\n",
    "\n",
    "https://github.com/pangeo-data/pangeo-datastore\n",
    "\n",
    "https://catalog.pangeo.io/"
   ]
  },
  {
   "cell_type": "markdown",
   "metadata": {},
   "source": [
    "## Explore catalog"
   ]
  },
  {
   "cell_type": "code",
   "execution_count": null,
   "metadata": {},
   "outputs": [],
   "source": [
    "from intake import open_catalog\n",
    "\n",
    "pangeo_cat = open_catalog(\"https://raw.githubusercontent.com/pangeo-data/pangeo-datastore/master/intake-catalogs/master.yaml\")\n",
    "list(pangeo_cat)"
   ]
  },
  {
   "cell_type": "code",
   "execution_count": null,
   "metadata": {},
   "outputs": [],
   "source": [
    "list(pangeo_cat.ocean)\n",
    "# print(list(pangeo_cat.atmosphere))\n",
    "# print(list(pangeo_cat.hydro))\n",
    "# pangeo_cat.walk(depth=5)"
   ]
  },
  {
   "cell_type": "markdown",
   "metadata": {},
   "source": [
    "# CMIP6 data"
   ]
  },
  {
   "cell_type": "code",
   "execution_count": 4,
   "metadata": {},
   "outputs": [],
   "source": [
    "# this only needs to be created once\n",
    "gcs = gcsfs.GCSFileSystem(token='anon')"
   ]
  },
  {
   "cell_type": "code",
   "execution_count": 7,
   "metadata": {},
   "outputs": [
    {
     "data": {
      "text/html": [
       "<div>\n",
       "<style scoped>\n",
       "    .dataframe tbody tr th:only-of-type {\n",
       "        vertical-align: middle;\n",
       "    }\n",
       "\n",
       "    .dataframe tbody tr th {\n",
       "        vertical-align: top;\n",
       "    }\n",
       "\n",
       "    .dataframe thead th {\n",
       "        text-align: right;\n",
       "    }\n",
       "</style>\n",
       "<table border=\"1\" class=\"dataframe\">\n",
       "  <thead>\n",
       "    <tr style=\"text-align: right;\">\n",
       "      <th></th>\n",
       "      <th>activity_id</th>\n",
       "      <th>institution_id</th>\n",
       "      <th>source_id</th>\n",
       "      <th>experiment_id</th>\n",
       "      <th>member_id</th>\n",
       "      <th>table_id</th>\n",
       "      <th>variable_id</th>\n",
       "      <th>grid_label</th>\n",
       "      <th>zstore</th>\n",
       "      <th>dcpp_init_year</th>\n",
       "      <th>version</th>\n",
       "    </tr>\n",
       "  </thead>\n",
       "  <tbody>\n",
       "    <tr>\n",
       "      <th>348810</th>\n",
       "      <td>DCPP</td>\n",
       "      <td>NCAR</td>\n",
       "      <td>CESM1-1-CAM5-CMIP5</td>\n",
       "      <td>dcppA-hindcast</td>\n",
       "      <td>r15i1p1f1</td>\n",
       "      <td>Amon</td>\n",
       "      <td>rlds</td>\n",
       "      <td>gn</td>\n",
       "      <td>gs://cmip6/DCPP/NCAR/CESM1-1-CAM5-CMIP5/dcppA-...</td>\n",
       "      <td>1986.0</td>\n",
       "      <td>20191007</td>\n",
       "    </tr>\n",
       "    <tr>\n",
       "      <th>320103</th>\n",
       "      <td>DCPP</td>\n",
       "      <td>NCAR</td>\n",
       "      <td>CESM1-1-CAM5-CMIP5</td>\n",
       "      <td>dcppA-hindcast</td>\n",
       "      <td>r40i1p1f1</td>\n",
       "      <td>Amon</td>\n",
       "      <td>rsus</td>\n",
       "      <td>gn</td>\n",
       "      <td>gs://cmip6/DCPP/NCAR/CESM1-1-CAM5-CMIP5/dcppA-...</td>\n",
       "      <td>2017.0</td>\n",
       "      <td>20191007</td>\n",
       "    </tr>\n",
       "    <tr>\n",
       "      <th>375443</th>\n",
       "      <td>CMIP</td>\n",
       "      <td>CAS</td>\n",
       "      <td>FGOALS-f3-L</td>\n",
       "      <td>abrupt-4xCO2</td>\n",
       "      <td>r2i1p1f1</td>\n",
       "      <td>Amon</td>\n",
       "      <td>tauu</td>\n",
       "      <td>gr</td>\n",
       "      <td>gs://cmip6/CMIP6/CMIP/CAS/FGOALS-f3-L/abrupt-4...</td>\n",
       "      <td>NaN</td>\n",
       "      <td>20191018</td>\n",
       "    </tr>\n",
       "    <tr>\n",
       "      <th>332594</th>\n",
       "      <td>DCPP</td>\n",
       "      <td>NCAR</td>\n",
       "      <td>CESM1-1-CAM5-CMIP5</td>\n",
       "      <td>dcppA-hindcast</td>\n",
       "      <td>r9i1p1f1</td>\n",
       "      <td>Amon</td>\n",
       "      <td>rlutcs</td>\n",
       "      <td>gn</td>\n",
       "      <td>gs://cmip6/DCPP/NCAR/CESM1-1-CAM5-CMIP5/dcppA-...</td>\n",
       "      <td>1970.0</td>\n",
       "      <td>20191007</td>\n",
       "    </tr>\n",
       "    <tr>\n",
       "      <th>88803</th>\n",
       "      <td>CMIP</td>\n",
       "      <td>CCCma</td>\n",
       "      <td>CanESM5-CanOE</td>\n",
       "      <td>historical</td>\n",
       "      <td>r3i1p2f1</td>\n",
       "      <td>Amon</td>\n",
       "      <td>rsdscs</td>\n",
       "      <td>gn</td>\n",
       "      <td>gs://cmip6/CMIP6/CMIP/CCCma/CanESM5-CanOE/hist...</td>\n",
       "      <td>NaN</td>\n",
       "      <td>20190429</td>\n",
       "    </tr>\n",
       "    <tr>\n",
       "      <th>209025</th>\n",
       "      <td>CMIP</td>\n",
       "      <td>INM</td>\n",
       "      <td>INM-CM5-0</td>\n",
       "      <td>piControl</td>\n",
       "      <td>r1i1p1f1</td>\n",
       "      <td>Amon</td>\n",
       "      <td>rtmt</td>\n",
       "      <td>gr1</td>\n",
       "      <td>gs://cmip6/CMIP6/CMIP/INM/INM-CM5-0/piControl/...</td>\n",
       "      <td>NaN</td>\n",
       "      <td>20190619</td>\n",
       "    </tr>\n",
       "    <tr>\n",
       "      <th>472968</th>\n",
       "      <td>CMIP</td>\n",
       "      <td>FIO-QLNM</td>\n",
       "      <td>FIO-ESM-2-0</td>\n",
       "      <td>piControl</td>\n",
       "      <td>r1i1p1f1</td>\n",
       "      <td>Amon</td>\n",
       "      <td>tasmin</td>\n",
       "      <td>gn</td>\n",
       "      <td>gs://cmip6/CMIP6/CMIP/FIO-QLNM/FIO-ESM-2-0/piC...</td>\n",
       "      <td>NaN</td>\n",
       "      <td>20200921</td>\n",
       "    </tr>\n",
       "    <tr>\n",
       "      <th>381519</th>\n",
       "      <td>CMIP</td>\n",
       "      <td>NCC</td>\n",
       "      <td>NorESM2-MM</td>\n",
       "      <td>piControl</td>\n",
       "      <td>r1i1p1f1</td>\n",
       "      <td>Amon</td>\n",
       "      <td>ua</td>\n",
       "      <td>gn</td>\n",
       "      <td>gs://cmip6/CMIP6/CMIP/NCC/NorESM2-MM/piControl...</td>\n",
       "      <td>NaN</td>\n",
       "      <td>20191108</td>\n",
       "    </tr>\n",
       "    <tr>\n",
       "      <th>235263</th>\n",
       "      <td>CMIP</td>\n",
       "      <td>MPI-M</td>\n",
       "      <td>MPI-ESM1-2-LR</td>\n",
       "      <td>historical</td>\n",
       "      <td>r2i1p1f1</td>\n",
       "      <td>Omon</td>\n",
       "      <td>o2min</td>\n",
       "      <td>gn</td>\n",
       "      <td>gs://cmip6/CMIP6/CMIP/MPI-M/MPI-ESM1-2-LR/hist...</td>\n",
       "      <td>NaN</td>\n",
       "      <td>20190710</td>\n",
       "    </tr>\n",
       "    <tr>\n",
       "      <th>138901</th>\n",
       "      <td>ScenarioMIP</td>\n",
       "      <td>CCCma</td>\n",
       "      <td>CanESM5</td>\n",
       "      <td>ssp119</td>\n",
       "      <td>r25i1p2f1</td>\n",
       "      <td>Omon</td>\n",
       "      <td>tauvo</td>\n",
       "      <td>gn</td>\n",
       "      <td>gs://cmip6/CMIP6/ScenarioMIP/CCCma/CanESM5/ssp...</td>\n",
       "      <td>NaN</td>\n",
       "      <td>20190429</td>\n",
       "    </tr>\n",
       "  </tbody>\n",
       "</table>\n",
       "</div>"
      ],
      "text/plain": [
       "        activity_id institution_id           source_id   experiment_id  \\\n",
       "348810         DCPP           NCAR  CESM1-1-CAM5-CMIP5  dcppA-hindcast   \n",
       "320103         DCPP           NCAR  CESM1-1-CAM5-CMIP5  dcppA-hindcast   \n",
       "375443         CMIP            CAS         FGOALS-f3-L    abrupt-4xCO2   \n",
       "332594         DCPP           NCAR  CESM1-1-CAM5-CMIP5  dcppA-hindcast   \n",
       "88803          CMIP          CCCma       CanESM5-CanOE      historical   \n",
       "209025         CMIP            INM           INM-CM5-0       piControl   \n",
       "472968         CMIP       FIO-QLNM         FIO-ESM-2-0       piControl   \n",
       "381519         CMIP            NCC          NorESM2-MM       piControl   \n",
       "235263         CMIP          MPI-M       MPI-ESM1-2-LR      historical   \n",
       "138901  ScenarioMIP          CCCma             CanESM5          ssp119   \n",
       "\n",
       "        member_id table_id variable_id grid_label  \\\n",
       "348810  r15i1p1f1     Amon        rlds         gn   \n",
       "320103  r40i1p1f1     Amon        rsus         gn   \n",
       "375443   r2i1p1f1     Amon        tauu         gr   \n",
       "332594   r9i1p1f1     Amon      rlutcs         gn   \n",
       "88803    r3i1p2f1     Amon      rsdscs         gn   \n",
       "209025   r1i1p1f1     Amon        rtmt        gr1   \n",
       "472968   r1i1p1f1     Amon      tasmin         gn   \n",
       "381519   r1i1p1f1     Amon          ua         gn   \n",
       "235263   r2i1p1f1     Omon       o2min         gn   \n",
       "138901  r25i1p2f1     Omon       tauvo         gn   \n",
       "\n",
       "                                                   zstore  dcpp_init_year  \\\n",
       "348810  gs://cmip6/DCPP/NCAR/CESM1-1-CAM5-CMIP5/dcppA-...          1986.0   \n",
       "320103  gs://cmip6/DCPP/NCAR/CESM1-1-CAM5-CMIP5/dcppA-...          2017.0   \n",
       "375443  gs://cmip6/CMIP6/CMIP/CAS/FGOALS-f3-L/abrupt-4...             NaN   \n",
       "332594  gs://cmip6/DCPP/NCAR/CESM1-1-CAM5-CMIP5/dcppA-...          1970.0   \n",
       "88803   gs://cmip6/CMIP6/CMIP/CCCma/CanESM5-CanOE/hist...             NaN   \n",
       "209025  gs://cmip6/CMIP6/CMIP/INM/INM-CM5-0/piControl/...             NaN   \n",
       "472968  gs://cmip6/CMIP6/CMIP/FIO-QLNM/FIO-ESM-2-0/piC...             NaN   \n",
       "381519  gs://cmip6/CMIP6/CMIP/NCC/NorESM2-MM/piControl...             NaN   \n",
       "235263  gs://cmip6/CMIP6/CMIP/MPI-M/MPI-ESM1-2-LR/hist...             NaN   \n",
       "138901  gs://cmip6/CMIP6/ScenarioMIP/CCCma/CanESM5/ssp...             NaN   \n",
       "\n",
       "         version  \n",
       "348810  20191007  \n",
       "320103  20191007  \n",
       "375443  20191018  \n",
       "332594  20191007  \n",
       "88803   20190429  \n",
       "209025  20190619  \n",
       "472968  20200921  \n",
       "381519  20191108  \n",
       "235263  20190710  \n",
       "138901  20190429  "
      ]
     },
     "execution_count": 7,
     "metadata": {},
     "output_type": "execute_result"
    }
   ],
   "source": [
    "df_full = pd.read_csv('https://storage.googleapis.com/cmip6/cmip6-zarr-consolidated-stores.csv')\n",
    "df_full.sample(10)"
   ]
  },
  {
   "cell_type": "code",
   "execution_count": null,
   "metadata": {},
   "outputs": [],
   "source": [
    "# df = df_full.query(\"activity_id=='CMIP' & table_id == 'Omon' & variable_id == 'thetao' & experiment_id == 'historical' & member_id == 'r1i1p1f1'\")\n",
    "df = df_full.query(\"activity_id=='CMIP' & table_id == 'Omon' & institution_id == 'CNRM-CERFACS' & experiment_id == 'historical'\")\n",
    "# df = df_full.query('institution_id == \"CNRM-CERFACS\" & member_id==\"r1i1p1f2\" & source_id==\"CNRM-CM6-1\"')\n",
    "\n",
    "# df = df_full.query(\"activity_id=='CMIP' & table_id == 'Omon' & variable_id == 'thetao' & experiment_id == 'abrupt-4xCO2'\")\n",
    "\n",
    "# df = df.query(\"source_id=='CNRM-CM6-1-HR' & variable_id=='thetao'\") # Horizontal resolution up to 1/4 deg\n",
    "# df = df.query(\"source_id=='CNRM-ESM2-1' & variable_id=='thetao'\") # Horizontal resolution up to 1deg\n",
    "df = df.query(\"source_id=='CNRM-ESM2-1' & (variable_id=='thetao' | variable_id=='so')\") # Horizontal resolution up to 1deg\n",
    "\n",
    "# df = df.sort_values('version')\n",
    "df = df.sort_values('member_id')\n",
    "df"
   ]
  },
  {
   "cell_type": "code",
   "execution_count": null,
   "metadata": {},
   "outputs": [],
   "source": [
    "# get the path to a specific zarr store (the first one from the dataframe above)\n",
    "zstore = df.zstore.values[-1]\n",
    "print(zstore)\n",
    "\n",
    "# create a mutable-mapping-style interface to the store\n",
    "mapper = gcs.get_mapper(zstore)\n",
    "\n",
    "# open it using xarray and zarr\n",
    "ds = xr.open_zarr(mapper, consolidated=True)\n",
    "print(\"Size of the dataset:\", ds.nbytes/1e9,\"Gb\")\n",
    "\n",
    "ds"
   ]
  },
  {
   "cell_type": "code",
   "execution_count": null,
   "metadata": {},
   "outputs": [],
   "source": [
    "sst = ds['thetao'].sel(lev=0, method='nearest')\n",
    "sst"
   ]
  },
  {
   "cell_type": "code",
   "execution_count": null,
   "metadata": {},
   "outputs": [],
   "source": [
    "def open_cmip6(df_row):\n",
    "    # get the path to zarr store\n",
    "    zstore = df.zstore.values[-1]\n",
    "#     print(zstore)\n",
    "    \n",
    "    # create a mutable-mapping-style interface to the store\n",
    "    mapper = gcs.get_mapper(zstore)\n",
    "\n",
    "    # open it using xarray and zarr\n",
    "    return xr.open_zarr(mapper, consolidated=True)\n",
    "\n",
    "ds = open_cmip6(df.iloc[0])\n",
    "print(\"Size of the dataset:\", ds.nbytes/1e9,\"Gb\")\n",
    "ds"
   ]
  },
  {
   "cell_type": "code",
   "execution_count": null,
   "metadata": {},
   "outputs": [],
   "source": [
    "# Compute size of the df selection:\n",
    "total_size = 0 # Gb\n",
    "for index, row in df.iterrows():\n",
    "    ds = open_cmip6(row)\n",
    "    total_size += ds.nbytes/1e9\n",
    "print(\"Size of the selection of datasets:\", total_size, \"Gb\")    "
   ]
  }
 ],
 "metadata": {
  "kernelspec": {
   "display_name": "ds2",
   "language": "python",
   "name": "ds2"
  },
  "language_info": {
   "codemirror_mode": {
    "name": "ipython",
    "version": 3
   },
   "file_extension": ".py",
   "mimetype": "text/x-python",
   "name": "python",
   "nbconvert_exporter": "python",
   "pygments_lexer": "ipython3",
   "version": "3.8.12"
  },
  "widgets": {
   "application/vnd.jupyter.widget-state+json": {
    "state": {},
    "version_major": 2,
    "version_minor": 0
   }
  }
 },
 "nbformat": 4,
 "nbformat_minor": 4
}
